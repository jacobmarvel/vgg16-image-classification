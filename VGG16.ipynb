{
  "nbformat": 4,
  "nbformat_minor": 0,
  "metadata": {
    "colab": {
      "provenance": [],
      "gpuType": "T4"
    },
    "kernelspec": {
      "name": "python3",
      "display_name": "Python 3"
    },
    "language_info": {
      "name": "python"
    },
    "accelerator": "GPU"
  },
  "cells": [
    {
      "cell_type": "code",
      "execution_count": 1,
      "metadata": {
        "colab": {
          "base_uri": "https://localhost:8080/"
        },
        "id": "gAbXwuIDqB2f",
        "outputId": "e7e0df69-48ad-4937-ed2f-fad119845888"
      },
      "outputs": [
        {
          "output_type": "stream",
          "name": "stdout",
          "text": [
            "Mon Feb 19 05:48:01 2024       \n",
            "+---------------------------------------------------------------------------------------+\n",
            "| NVIDIA-SMI 535.104.05             Driver Version: 535.104.05   CUDA Version: 12.2     |\n",
            "|-----------------------------------------+----------------------+----------------------+\n",
            "| GPU  Name                 Persistence-M | Bus-Id        Disp.A | Volatile Uncorr. ECC |\n",
            "| Fan  Temp   Perf          Pwr:Usage/Cap |         Memory-Usage | GPU-Util  Compute M. |\n",
            "|                                         |                      |               MIG M. |\n",
            "|=========================================+======================+======================|\n",
            "|   0  Tesla T4                       Off | 00000000:00:04.0 Off |                    0 |\n",
            "| N/A   59C    P8              10W /  70W |      0MiB / 15360MiB |      0%      Default |\n",
            "|                                         |                      |                  N/A |\n",
            "+-----------------------------------------+----------------------+----------------------+\n",
            "                                                                                         \n",
            "+---------------------------------------------------------------------------------------+\n",
            "| Processes:                                                                            |\n",
            "|  GPU   GI   CI        PID   Type   Process name                            GPU Memory |\n",
            "|        ID   ID                                                             Usage      |\n",
            "|=======================================================================================|\n",
            "|  No running processes found                                                           |\n",
            "+---------------------------------------------------------------------------------------+\n"
          ]
        }
      ],
      "source": [
        "!nvidia-smi"
      ]
    },
    {
      "cell_type": "code",
      "source": [
        "import tensorflow as tf\n",
        "print(tf.__version__)"
      ],
      "metadata": {
        "colab": {
          "base_uri": "https://localhost:8080/"
        },
        "id": "MYsp24ezqMOs",
        "outputId": "106322ed-0a84-424a-a5b0-94df0dcd1618"
      },
      "execution_count": 2,
      "outputs": [
        {
          "output_type": "stream",
          "name": "stdout",
          "text": [
            "2.15.0\n"
          ]
        }
      ]
    },
    {
      "cell_type": "code",
      "source": [
        "# import the libraries as shown below\n",
        "\n",
        "from tensorflow.keras.layers import Input, Lambda, Dense, Flatten\n",
        "from tensorflow.keras.models import Model\n",
        "from tensorflow.keras.applications.vgg16 import VGG16\n",
        "from tensorflow.keras.applications.vgg19 import VGG19\n",
        "from tensorflow.keras.preprocessing import image\n",
        "from tensorflow.keras.preprocessing.image import ImageDataGenerator,load_img\n",
        "from tensorflow.keras.models import Sequential\n",
        "import numpy as np\n",
        "from glob import glob"
      ],
      "metadata": {
        "id": "zNfELJfS1C1w"
      },
      "execution_count": 3,
      "outputs": []
    },
    {
      "cell_type": "code",
      "source": [
        "from google.colab import drive\n",
        "drive.mount('/content/drive')"
      ],
      "metadata": {
        "colab": {
          "base_uri": "https://localhost:8080/"
        },
        "id": "CQM6k4p21Epp",
        "outputId": "3bc621d7-64a3-4b3b-85ef-78040fb32199"
      },
      "execution_count": 4,
      "outputs": [
        {
          "output_type": "stream",
          "name": "stdout",
          "text": [
            "Drive already mounted at /content/drive; to attempt to forcibly remount, call drive.mount(\"/content/drive\", force_remount=True).\n"
          ]
        }
      ]
    },
    {
      "cell_type": "code",
      "source": [
        "ROOT_PATH = \"/content/drive/MyDrive/flowers\""
      ],
      "metadata": {
        "id": "g2MY6HrQ1GuL"
      },
      "execution_count": 5,
      "outputs": []
    },
    {
      "cell_type": "code",
      "source": [
        "!pwd"
      ],
      "metadata": {
        "colab": {
          "base_uri": "https://localhost:8080/"
        },
        "id": "BhvxHfBQ1o3i",
        "outputId": "c7edb6c6-9006-4a48-de57-94e91867d36d"
      },
      "execution_count": 6,
      "outputs": [
        {
          "output_type": "stream",
          "name": "stdout",
          "text": [
            "/content\n"
          ]
        }
      ]
    },
    {
      "cell_type": "code",
      "source": [
        "import os\n",
        "os.chdir(ROOT_PATH)\n",
        "os.getcwd()"
      ],
      "metadata": {
        "colab": {
          "base_uri": "https://localhost:8080/",
          "height": 35
        },
        "id": "zE7dLFHJ1o6c",
        "outputId": "2c09cac9-9922-4aea-e10d-b7bee4dd9678"
      },
      "execution_count": 7,
      "outputs": [
        {
          "output_type": "execute_result",
          "data": {
            "text/plain": [
              "'/content/drive/MyDrive/flowers'"
            ],
            "application/vnd.google.colaboratory.intrinsic+json": {
              "type": "string"
            }
          },
          "metadata": {},
          "execution_count": 7
        }
      ]
    },
    {
      "cell_type": "code",
      "source": [
        "# re-size all the images to this\n",
        "IMAGE_SIZE = [224, 224]\n",
        "\n",
        "train_path = 'flowers/train'\n",
        "valid_path = 'flowers/validation'\n"
      ],
      "metadata": {
        "id": "3tnPUu551o8_"
      },
      "execution_count": 8,
      "outputs": []
    },
    {
      "cell_type": "code",
      "source": [
        "# Import the VGG16 library as shown below and add preprocessing layer to the front of VGG\n",
        "# Here we will be using imagenet weights\n",
        "\n",
        "vgg16 = VGG16(input_shape=IMAGE_SIZE + [3], weights='imagenet', include_top=False)\n"
      ],
      "metadata": {
        "id": "bx-hxLQW1o_f"
      },
      "execution_count": 9,
      "outputs": []
    },
    {
      "cell_type": "code",
      "source": [
        "# don't train existing weights\n",
        "for layer in vgg16.layers:\n",
        "  print(layer)"
      ],
      "metadata": {
        "colab": {
          "base_uri": "https://localhost:8080/"
        },
        "id": "y0DEzSZH1pB2",
        "outputId": "5eb90329-7e65-4c25-82a1-5b72e1aa17aa"
      },
      "execution_count": 10,
      "outputs": [
        {
          "output_type": "stream",
          "name": "stdout",
          "text": [
            "<keras.src.engine.input_layer.InputLayer object at 0x79689f78e260>\n",
            "<keras.src.layers.convolutional.conv2d.Conv2D object at 0x79681aff6e00>\n",
            "<keras.src.layers.convolutional.conv2d.Conv2D object at 0x79681aff7580>\n",
            "<keras.src.layers.pooling.max_pooling2d.MaxPooling2D object at 0x79681a7104f0>\n",
            "<keras.src.layers.convolutional.conv2d.Conv2D object at 0x79681aff7af0>\n",
            "<keras.src.layers.convolutional.conv2d.Conv2D object at 0x79681a710e50>\n",
            "<keras.src.layers.pooling.max_pooling2d.MaxPooling2D object at 0x79681a711960>\n",
            "<keras.src.layers.convolutional.conv2d.Conv2D object at 0x79681aff79a0>\n",
            "<keras.src.layers.convolutional.conv2d.Conv2D object at 0x79681a712260>\n",
            "<keras.src.layers.convolutional.conv2d.Conv2D object at 0x79681a7139d0>\n",
            "<keras.src.layers.pooling.max_pooling2d.MaxPooling2D object at 0x79681a7703a0>\n",
            "<keras.src.layers.convolutional.conv2d.Conv2D object at 0x79681a713f40>\n",
            "<keras.src.layers.convolutional.conv2d.Conv2D object at 0x79681a7704f0>\n",
            "<keras.src.layers.convolutional.conv2d.Conv2D object at 0x79681a7722c0>\n",
            "<keras.src.layers.pooling.max_pooling2d.MaxPooling2D object at 0x79681a7708e0>\n",
            "<keras.src.layers.convolutional.conv2d.Conv2D object at 0x79681a773be0>\n",
            "<keras.src.layers.convolutional.conv2d.Conv2D object at 0x79681a773940>\n",
            "<keras.src.layers.convolutional.conv2d.Conv2D object at 0x79681a773820>\n",
            "<keras.src.layers.pooling.max_pooling2d.MaxPooling2D object at 0x79681a789f60>\n"
          ]
        }
      ]
    },
    {
      "cell_type": "code",
      "source": [
        "# don't train existing weights\n",
        "for layer in vgg16.layers:\n",
        "    layer.trainable = False"
      ],
      "metadata": {
        "id": "RzQnaMHZ1pE9"
      },
      "execution_count": 11,
      "outputs": []
    },
    {
      "cell_type": "code",
      "source": [
        "for layer in vgg16.layers:\n",
        "  print(layer.name,layer.trainable)"
      ],
      "metadata": {
        "colab": {
          "base_uri": "https://localhost:8080/"
        },
        "id": "S5fMx3u713NX",
        "outputId": "cc0ffdcd-6a11-437b-d3ca-26ef0589272f"
      },
      "execution_count": 12,
      "outputs": [
        {
          "output_type": "stream",
          "name": "stdout",
          "text": [
            "input_1 False\n",
            "block1_conv1 False\n",
            "block1_conv2 False\n",
            "block1_pool False\n",
            "block2_conv1 False\n",
            "block2_conv2 False\n",
            "block2_pool False\n",
            "block3_conv1 False\n",
            "block3_conv2 False\n",
            "block3_conv3 False\n",
            "block3_pool False\n",
            "block4_conv1 False\n",
            "block4_conv2 False\n",
            "block4_conv3 False\n",
            "block4_pool False\n",
            "block5_conv1 False\n",
            "block5_conv2 False\n",
            "block5_conv3 False\n",
            "block5_pool False\n"
          ]
        }
      ]
    },
    {
      "cell_type": "code",
      "source": [
        "vgg16.summary()"
      ],
      "metadata": {
        "colab": {
          "base_uri": "https://localhost:8080/"
        },
        "id": "znYque7B13QJ",
        "outputId": "36b29710-56e3-40d7-c578-5e49fce08762"
      },
      "execution_count": 13,
      "outputs": [
        {
          "output_type": "stream",
          "name": "stdout",
          "text": [
            "Model: \"vgg16\"\n",
            "_________________________________________________________________\n",
            " Layer (type)                Output Shape              Param #   \n",
            "=================================================================\n",
            " input_1 (InputLayer)        [(None, 224, 224, 3)]     0         \n",
            "                                                                 \n",
            " block1_conv1 (Conv2D)       (None, 224, 224, 64)      1792      \n",
            "                                                                 \n",
            " block1_conv2 (Conv2D)       (None, 224, 224, 64)      36928     \n",
            "                                                                 \n",
            " block1_pool (MaxPooling2D)  (None, 112, 112, 64)      0         \n",
            "                                                                 \n",
            " block2_conv1 (Conv2D)       (None, 112, 112, 128)     73856     \n",
            "                                                                 \n",
            " block2_conv2 (Conv2D)       (None, 112, 112, 128)     147584    \n",
            "                                                                 \n",
            " block2_pool (MaxPooling2D)  (None, 56, 56, 128)       0         \n",
            "                                                                 \n",
            " block3_conv1 (Conv2D)       (None, 56, 56, 256)       295168    \n",
            "                                                                 \n",
            " block3_conv2 (Conv2D)       (None, 56, 56, 256)       590080    \n",
            "                                                                 \n",
            " block3_conv3 (Conv2D)       (None, 56, 56, 256)       590080    \n",
            "                                                                 \n",
            " block3_pool (MaxPooling2D)  (None, 28, 28, 256)       0         \n",
            "                                                                 \n",
            " block4_conv1 (Conv2D)       (None, 28, 28, 512)       1180160   \n",
            "                                                                 \n",
            " block4_conv2 (Conv2D)       (None, 28, 28, 512)       2359808   \n",
            "                                                                 \n",
            " block4_conv3 (Conv2D)       (None, 28, 28, 512)       2359808   \n",
            "                                                                 \n",
            " block4_pool (MaxPooling2D)  (None, 14, 14, 512)       0         \n",
            "                                                                 \n",
            " block5_conv1 (Conv2D)       (None, 14, 14, 512)       2359808   \n",
            "                                                                 \n",
            " block5_conv2 (Conv2D)       (None, 14, 14, 512)       2359808   \n",
            "                                                                 \n",
            " block5_conv3 (Conv2D)       (None, 14, 14, 512)       2359808   \n",
            "                                                                 \n",
            " block5_pool (MaxPooling2D)  (None, 7, 7, 512)         0         \n",
            "                                                                 \n",
            "=================================================================\n",
            "Total params: 14714688 (56.13 MB)\n",
            "Trainable params: 0 (0.00 Byte)\n",
            "Non-trainable params: 14714688 (56.13 MB)\n",
            "_________________________________________________________________\n"
          ]
        }
      ]
    },
    {
      "cell_type": "code",
      "source": [
        "  # useful for getting number of output classes\n",
        "folders = glob('flowers/train/*')"
      ],
      "metadata": {
        "id": "MqP5lsVc13Sj"
      },
      "execution_count": 14,
      "outputs": []
    },
    {
      "cell_type": "code",
      "source": [
        "folders"
      ],
      "metadata": {
        "colab": {
          "base_uri": "https://localhost:8080/"
        },
        "id": "ptMvOD7p13U5",
        "outputId": "94c7994e-09ed-4077-c215-7bbe3ce263c8"
      },
      "execution_count": 15,
      "outputs": [
        {
          "output_type": "execute_result",
          "data": {
            "text/plain": [
              "[]"
            ]
          },
          "metadata": {},
          "execution_count": 15
        }
      ]
    },
    {
      "cell_type": "code",
      "source": [
        "len(folders)"
      ],
      "metadata": {
        "colab": {
          "base_uri": "https://localhost:8080/"
        },
        "id": "g4TA9WtQ13Zj",
        "outputId": "02b3bc5c-687e-435c-fda7-7e4dbb00c9ae"
      },
      "execution_count": 16,
      "outputs": [
        {
          "output_type": "execute_result",
          "data": {
            "text/plain": [
              "0"
            ]
          },
          "metadata": {},
          "execution_count": 16
        }
      ]
    },
    {
      "cell_type": "code",
      "source": [
        "model = Sequential()\n",
        "\n",
        "model.add(vgg16)\n",
        "model.add(Flatten())\n",
        "model.add(Dense(256,activation='relu'))\n",
        "model.add(Dense(5,activation='softmax'))"
      ],
      "metadata": {
        "id": "QmZolj4E13cU"
      },
      "execution_count": 17,
      "outputs": []
    },
    {
      "cell_type": "code",
      "source": [
        "# view the structure of the model\n",
        "model.summary()"
      ],
      "metadata": {
        "colab": {
          "base_uri": "https://localhost:8080/"
        },
        "id": "Q2rfjF5X13ej",
        "outputId": "2d8b2a65-cf95-4370-866e-4c2daba3493a"
      },
      "execution_count": 18,
      "outputs": [
        {
          "output_type": "stream",
          "name": "stdout",
          "text": [
            "Model: \"sequential\"\n",
            "_________________________________________________________________\n",
            " Layer (type)                Output Shape              Param #   \n",
            "=================================================================\n",
            " vgg16 (Functional)          (None, 7, 7, 512)         14714688  \n",
            "                                                                 \n",
            " flatten (Flatten)           (None, 25088)             0         \n",
            "                                                                 \n",
            " dense (Dense)               (None, 256)               6422784   \n",
            "                                                                 \n",
            " dense_1 (Dense)             (None, 5)                 1285      \n",
            "                                                                 \n",
            "=================================================================\n",
            "Total params: 21138757 (80.64 MB)\n",
            "Trainable params: 6424069 (24.51 MB)\n",
            "Non-trainable params: 14714688 (56.13 MB)\n",
            "_________________________________________________________________\n"
          ]
        }
      ]
    },
    {
      "cell_type": "code",
      "source": [
        "# tell the model what cost and optimization method to use\n",
        "model.compile(\n",
        "  loss='categorical_crossentropy',\n",
        "  optimizer='adam',\n",
        "  metrics=['accuracy']\n",
        ")\n"
      ],
      "metadata": {
        "id": "Uhi2cITm2DQF"
      },
      "execution_count": 19,
      "outputs": []
    },
    {
      "cell_type": "code",
      "source": [
        "# Use the Image Data Generator to import the images from the dataset\n",
        "from tensorflow.keras.preprocessing.image import ImageDataGenerator\n",
        "\n",
        "train_datagen = ImageDataGenerator(rescale = 1./255,\n",
        "                                   shear_range = 0.2,\n",
        "                                   zoom_range = 0.2,\n",
        "                                   horizontal_flip = True)\n",
        "\n",
        "test_datagen = ImageDataGenerator(rescale = 1./255)"
      ],
      "metadata": {
        "id": "8kQfPS6H2DTa"
      },
      "execution_count": 20,
      "outputs": []
    },
    {
      "cell_type": "code",
      "source": [
        "!pwd"
      ],
      "metadata": {
        "colab": {
          "base_uri": "https://localhost:8080/"
        },
        "id": "9r_xXBTU2Dck",
        "outputId": "81501c4a-a44c-4756-f868-c661396ea61e"
      },
      "execution_count": 21,
      "outputs": [
        {
          "output_type": "stream",
          "name": "stdout",
          "text": [
            "/content/drive/MyDrive/flowers\n"
          ]
        }
      ]
    },
    {
      "cell_type": "code",
      "source": [
        "# Make sure you provide the same target size as initialied for the image size\n",
        "training_set = train_datagen.flow_from_directory('/content/drive/MyDrive/flowers/train',\n",
        "                                                 target_size = (224, 224),\n",
        "                                                 batch_size = 32,\n",
        "                                                 class_mode = 'categorical')"
      ],
      "metadata": {
        "colab": {
          "base_uri": "https://localhost:8080/"
        },
        "id": "CYO9evDr2LIe",
        "outputId": "b710adc0-4347-4f8c-8306-c0390075a392"
      },
      "execution_count": 23,
      "outputs": [
        {
          "output_type": "stream",
          "name": "stdout",
          "text": [
            "Found 600 images belonging to 5 classes.\n"
          ]
        }
      ]
    },
    {
      "cell_type": "code",
      "source": [
        "test_set = test_datagen.flow_from_directory('/content/drive/MyDrive/flowers/validation',\n",
        "                                            target_size = (224, 224),\n",
        "                                            batch_size = 32,\n",
        "                                            class_mode = 'categorical')"
      ],
      "metadata": {
        "colab": {
          "base_uri": "https://localhost:8080/"
        },
        "id": "OSAa1SXR2LLT",
        "outputId": "2c09c3eb-dfd7-4369-b850-5ee3059ef96b"
      },
      "execution_count": 24,
      "outputs": [
        {
          "output_type": "stream",
          "name": "stdout",
          "text": [
            "Found 300 images belonging to 5 classes.\n"
          ]
        }
      ]
    },
    {
      "cell_type": "code",
      "source": [
        "# fit the model\n",
        "# Run the cell. It will take some time to execute\n",
        "r = model.fit(\n",
        "  training_set,\n",
        "  validation_data=test_set,\n",
        "  epochs=10,\n",
        "  steps_per_epoch=len(training_set),\n",
        "  validation_steps=len(test_set)\n",
        ")"
      ],
      "metadata": {
        "colab": {
          "base_uri": "https://localhost:8080/"
        },
        "id": "mUeCUMex2LNs",
        "outputId": "1b40bed0-6793-4a5c-f6c6-613419e75371"
      },
      "execution_count": 25,
      "outputs": [
        {
          "output_type": "stream",
          "name": "stdout",
          "text": [
            "Epoch 1/10\n",
            "19/19 [==============================] - 162s 8s/step - loss: 3.5939 - accuracy: 0.3783 - val_loss: 1.3075 - val_accuracy: 0.5400\n",
            "Epoch 2/10\n",
            "19/19 [==============================] - 12s 643ms/step - loss: 0.8577 - accuracy: 0.6733 - val_loss: 1.1565 - val_accuracy: 0.6633\n",
            "Epoch 3/10\n",
            "19/19 [==============================] - 12s 619ms/step - loss: 0.5242 - accuracy: 0.8050 - val_loss: 0.7729 - val_accuracy: 0.7333\n",
            "Epoch 4/10\n",
            "19/19 [==============================] - 12s 631ms/step - loss: 0.3452 - accuracy: 0.8750 - val_loss: 0.7872 - val_accuracy: 0.7467\n",
            "Epoch 5/10\n",
            "19/19 [==============================] - 12s 640ms/step - loss: 0.2547 - accuracy: 0.9167 - val_loss: 0.8170 - val_accuracy: 0.7233\n",
            "Epoch 6/10\n",
            "19/19 [==============================] - 12s 655ms/step - loss: 0.2379 - accuracy: 0.9267 - val_loss: 0.8131 - val_accuracy: 0.7567\n",
            "Epoch 7/10\n",
            "19/19 [==============================] - 12s 628ms/step - loss: 0.1734 - accuracy: 0.9483 - val_loss: 0.7749 - val_accuracy: 0.7600\n",
            "Epoch 8/10\n",
            "19/19 [==============================] - 12s 624ms/step - loss: 0.1626 - accuracy: 0.9567 - val_loss: 0.8110 - val_accuracy: 0.7633\n",
            "Epoch 9/10\n",
            "19/19 [==============================] - 12s 644ms/step - loss: 0.1023 - accuracy: 0.9817 - val_loss: 0.8039 - val_accuracy: 0.7533\n",
            "Epoch 10/10\n",
            "19/19 [==============================] - 12s 635ms/step - loss: 0.1209 - accuracy: 0.9650 - val_loss: 0.9726 - val_accuracy: 0.7500\n"
          ]
        }
      ]
    },
    {
      "cell_type": "code",
      "source": [
        "import matplotlib.pyplot as plt"
      ],
      "metadata": {
        "id": "ljIn1XLN2LP2"
      },
      "execution_count": 26,
      "outputs": []
    },
    {
      "cell_type": "code",
      "source": [
        "# plot the loss\n",
        "plt.plot(r.history['loss'], label='train loss')\n",
        "plt.plot(r.history['val_loss'], label='val loss')\n",
        "plt.legend()\n",
        "plt.show()\n",
        "plt.savefig('LossVal_loss')"
      ],
      "metadata": {
        "colab": {
          "base_uri": "https://localhost:8080/",
          "height": 447
        },
        "id": "8t27twvW2LSm",
        "outputId": "c932f1ca-0885-4df7-8b88-f934973577b3"
      },
      "execution_count": 27,
      "outputs": [
        {
          "output_type": "display_data",
          "data": {
            "text/plain": [
              "<Figure size 640x480 with 1 Axes>"
            ],
            "image/png": "[encoded data removed]"
          },
          "metadata": {}
        },
        {
          "output_type": "display_data",
          "data": {
            "text/plain": [
              "<Figure size 640x480 with 0 Axes>"
            ]
          },
          "metadata": {}
        }
      ]
    },
    {
      "cell_type": "code",
      "source": [
        "# plot the accuracy\n",
        "plt.plot(r.history['accuracy'], label='train acc')\n",
        "plt.plot(r.history['val_accuracy'], label='val acc')\n",
        "plt.legend()\n",
        "plt.show()\n",
        "plt.savefig('AccVal_acc')"
      ],
      "metadata": {
        "colab": {
          "base_uri": "https://localhost:8080/",
          "height": 447
        },
        "id": "9efXsdru2Wxf",
        "outputId": "d5e4c0a0-3d6f-49d9-bd03-cffe3fc9fc5f"
      },
      "execution_count": 28,
      "outputs": [
        {
          "output_type": "display_data",
          "data": {
            "text/plain": [
              "<Figure size 640x480 with 1 Axes>"
            ],
            "image/png": "[encoded data removed]"
          },
          "metadata": {}
        },
        {
          "output_type": "display_data",
          "data": {
            "text/plain": [
              "<Figure size 640x480 with 0 Axes>"
            ]
          },
          "metadata": {}
        }
      ]
    },
    {
      "cell_type": "code",
      "source": [
        "# save it as a h5 file\n",
        "from tensorflow.keras.models import load_model\n",
        "\n",
        "model.save('model_vgg16.h5')"
      ],
      "metadata": {
        "id": "vkZDY8jB2W0G"
      },
      "execution_count": null,
      "outputs": []
    },
    {
      "cell_type": "code",
      "source": [
        "y_pred = model.predict(test_set)"
      ],
      "metadata": {
        "colab": {
          "base_uri": "https://localhost:8080/"
        },
        "id": "4h_AspXv2W2j",
        "outputId": "259d282b-9e62-4216-f9b3-b03942668f9f"
      },
      "execution_count": 29,
      "outputs": [
        {
          "output_type": "stream",
          "name": "stdout",
          "text": [
            "10/10 [==============================] - 2s 175ms/step\n"
          ]
        }
      ]
    },
    {
      "cell_type": "code",
      "source": [
        "y_pred"
      ],
      "metadata": {
        "colab": {
          "base_uri": "https://localhost:8080/"
        },
        "id": "h3gPx0cY2cpM",
        "outputId": "dc9a510b-5bd3-41e5-e547-be0d9a135b0d"
      },
      "execution_count": 30,
      "outputs": [
        {
          "output_type": "execute_result",
          "data": {
            "text/plain": [
              "array([[1.7149286e-01, 9.1268905e-03, 5.0500041e-01, 3.0243838e-01,\n",
              "        1.1941464e-02],\n",
              "       [5.3210294e-01, 3.6996430e-01, 6.9075532e-02, 2.8223369e-02,\n",
              "        6.3387264e-04],\n",
              "       [5.3476724e-03, 7.4133581e-01, 7.8263983e-02, 7.6803066e-02,\n",
              "        9.8249510e-02],\n",
              "       ...,\n",
              "       [1.3196404e-03, 9.9856561e-01, 4.5192788e-05, 6.8698369e-05,\n",
              "        8.2866842e-07],\n",
              "       [4.3999259e-03, 3.1678195e-04, 9.9127394e-01, 3.6199377e-03,\n",
              "        3.8942203e-04],\n",
              "       [4.3113661e-04, 1.6784570e-03, 9.0033340e-01, 2.1975799e-03,\n",
              "        9.5359385e-02]], dtype=float32)"
            ]
          },
          "metadata": {},
          "execution_count": 30
        }
      ]
    },
    {
      "cell_type": "code",
      "source": [
        "import numpy as np\n",
        "y_pred = np.argmax(y_pred, axis=1)"
      ],
      "metadata": {
        "id": "5aZib-HB2csT"
      },
      "execution_count": 31,
      "outputs": []
    },
    {
      "cell_type": "code",
      "source": [
        "y_pred"
      ],
      "metadata": {
        "colab": {
          "base_uri": "https://localhost:8080/"
        },
        "id": "1jRzsp8e2cu2",
        "outputId": "2f064863-fcb8-4111-f85d-fc17d270681b"
      },
      "execution_count": 32,
      "outputs": [
        {
          "output_type": "execute_result",
          "data": {
            "text/plain": [
              "array([2, 0, 1, 4, 2, 2, 0, 2, 2, 2, 4, 4, 3, 0, 0, 0, 2, 2, 2, 2, 2, 1,\n",
              "       0, 2, 0, 2, 2, 0, 3, 0, 2, 3, 3, 2, 2, 2, 0, 0, 2, 2, 2, 4, 2, 1,\n",
              "       3, 2, 1, 1, 4, 2, 4, 1, 1, 3, 4, 0, 4, 0, 2, 4, 3, 1, 1, 3, 0, 0,\n",
              "       1, 4, 3, 2, 2, 4, 4, 4, 2, 0, 3, 2, 1, 2, 1, 1, 2, 3, 3, 2, 1, 2,\n",
              "       0, 4, 3, 2, 4, 4, 2, 0, 1, 2, 2, 2, 2, 2, 2, 3, 2, 0, 4, 4, 1, 3,\n",
              "       4, 4, 1, 2, 1, 2, 2, 4, 2, 0, 1, 2, 0, 1, 1, 0, 2, 0, 1, 1, 4, 0,\n",
              "       2, 2, 4, 0, 4, 1, 3, 2, 4, 0, 1, 2, 3, 1, 1, 2, 2, 1, 4, 4, 1, 1,\n",
              "       0, 2, 0, 1, 4, 4, 2, 4, 2, 4, 0, 0, 2, 3, 4, 4, 3, 2, 2, 1, 2, 1,\n",
              "       1, 2, 1, 1, 1, 2, 1, 4, 1, 3, 0, 1, 2, 0, 4, 2, 2, 4, 0, 2, 1, 4,\n",
              "       2, 2, 1, 3, 4, 4, 1, 2, 4, 2, 0, 2, 3, 4, 0, 1, 4, 3, 0, 3, 2, 2,\n",
              "       4, 3, 1, 3, 0, 2, 0, 0, 2, 3, 2, 2, 0, 4, 2, 3, 2, 1, 4, 4, 1, 0,\n",
              "       4, 1, 2, 2, 3, 4, 4, 3, 2, 2, 2, 1, 4, 0, 0, 3, 4, 2, 4, 4, 2, 2,\n",
              "       2, 2, 3, 1, 3, 0, 4, 3, 0, 0, 2, 1, 1, 2, 0, 3, 3, 2, 4, 1, 4, 1,\n",
              "       3, 4, 1, 0, 1, 3, 2, 2, 1, 2, 4, 1, 2, 2])"
            ]
          },
          "metadata": {},
          "execution_count": 32
        }
      ]
    },
    {
      "cell_type": "code",
      "source": [
        "from tensorflow.keras.models import load_model\n",
        "from tensorflow.keras.preprocessing import image"
      ],
      "metadata": {
        "id": "0gyyuL1R2cxI"
      },
      "execution_count": 33,
      "outputs": []
    },
    {
      "cell_type": "code",
      "source": [
        "model=load_model('model_vgg16.h5')"
      ],
      "metadata": {
        "id": "euj7z5Ps2joE"
      },
      "execution_count": null,
      "outputs": []
    },
    {
      "cell_type": "code",
      "source": [
        "img=image.load_img('tulip.jpg',target_size=(224,224))"
      ],
      "metadata": {
        "id": "wmBJCJgD2jq7"
      },
      "execution_count": null,
      "outputs": []
    },
    {
      "cell_type": "code",
      "source": [
        "x=image.img_to_array(img)\n",
        "x"
      ],
      "metadata": {
        "id": "zqCGbfmn2jtm"
      },
      "execution_count": null,
      "outputs": []
    },
    {
      "cell_type": "code",
      "source": [
        "Z = plt.imread('tulip.jpg')\n",
        "plt.imshow(Z)"
      ],
      "metadata": {
        "id": "Gd3ils_o2n20"
      },
      "execution_count": null,
      "outputs": []
    },
    {
      "cell_type": "code",
      "source": [
        "x.shape"
      ],
      "metadata": {
        "id": "30qHVyPk2n52"
      },
      "execution_count": null,
      "outputs": []
    },
    {
      "cell_type": "code",
      "source": [
        "x=x/255"
      ],
      "metadata": {
        "id": "JV4z_jb52tCs"
      },
      "execution_count": null,
      "outputs": []
    },
    {
      "cell_type": "code",
      "source": [
        "from keras.applications.vgg16 import preprocess_input"
      ],
      "metadata": {
        "id": "BK9E0h672tFP"
      },
      "execution_count": null,
      "outputs": []
    },
    {
      "cell_type": "code",
      "source": [
        "import numpy as np\n",
        "x=np.expand_dims(x,axis=0)\n",
        "img_data=preprocess_input(x)\n",
        "img_data.shape"
      ],
      "metadata": {
        "id": "zqYzZF-l2tHv"
      },
      "execution_count": null,
      "outputs": []
    },
    {
      "cell_type": "code",
      "source": [
        "model.predict(img_data)"
      ],
      "metadata": {
        "id": "8x1uJkLb2wce"
      },
      "execution_count": null,
      "outputs": []
    },
    {
      "cell_type": "code",
      "source": [
        "a=np.argmax(model.predict(img_data), axis=1)"
      ],
      "metadata": {
        "id": "hxREfW-w2we1"
      },
      "execution_count": null,
      "outputs": []
    },
    {
      "cell_type": "code",
      "source": [],
      "metadata": {
        "id": "UmirKzHp2wjk"
      },
      "execution_count": null,
      "outputs": []
    }
  ]
}